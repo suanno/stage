{
 "cells": [
  {
   "cell_type": "code",
   "execution_count": null,
   "metadata": {},
   "outputs": [],
   "source": [
    "import numpy as np\n",
    "from matplotlib import pyplot as plt\n",
    "import os"
   ]
  },
  {
   "cell_type": "code",
   "execution_count": null,
   "metadata": {},
   "outputs": [],
   "source": [
    "# FFT\n",
    "N = 1000\n",
    "f = open(\"tdgl_result.dat\", \"r\")\n",
    "i = 0\n",
    "xx = np.zeros(N)\n",
    "yy = np.zeros(N)\n",
    "for row in f:\n",
    "  if i == 0:\n",
    "    # Retrieve parameters\n",
    "    N, tmax, dx, dt, seed, A, Thalf = row.split(\" \")\n",
    "    N = int(N)\n",
    "    tmax = float(tmax)\n",
    "    dx = float(dx)\n",
    "    dt = float(dt)\n",
    "    seed = int(seed)\n",
    "  else:\n",
    "    # Plot data\n",
    "    xx[i-1], yy[i-1] = row.split(\" \")  \n",
    "  i = i + 1\n",
    "\n",
    "\n",
    "plt.plot(xx,yy)\n",
    "plt.ylim(-0.25,0.25)\n",
    "plt.title(\"N = \" + str(N) + \"\\n dx = \" + str(dx) + \" dt = \" + str(dt))\n",
    "if (os.path.isdir(str(seed))) == False:\n",
    "  os.mkdir(str(seed))\n",
    "plt.savefig(str(seed) + \"//t \" + str(tmax) + \".png\")"
   ]
  }
 ],
 "metadata": {
  "language_info": {
   "name": "python"
  }
 },
 "nbformat": 4,
 "nbformat_minor": 2
}
